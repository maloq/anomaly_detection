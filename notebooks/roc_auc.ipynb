{
  "nbformat": 4,
  "nbformat_minor": 0,
  "metadata": {
    "colab": {
      "name": "ROC.ipynb",
      "provenance": []
    },
    "kernelspec": {
      "name": "python3",
      "display_name": "Python 3"
    },
    "accelerator": "GPU"
  },
  "cells": [
    {
      "cell_type": "code",
      "metadata": {
        "id": "3K90dmBgAu8A",
        "outputId": "8b75ff61-be29-4fde-c14d-9fa715295b11",
        "colab": {
          "base_uri": "https://localhost:8080/",
          "height": 357
        }
      },
      "source": [
        "!nvidia-smi"
      ],
      "execution_count": null,
      "outputs": [
        {
          "output_type": "stream",
          "text": [
            "Sat Oct 24 10:56:44 2020       \n",
            "+-----------------------------------------------------------------------------+\n",
            "| NVIDIA-SMI 455.23.05    Driver Version: 418.67       CUDA Version: 10.1     |\n",
            "|-------------------------------+----------------------+----------------------+\n",
            "| GPU  Name        Persistence-M| Bus-Id        Disp.A | Volatile Uncorr. ECC |\n",
            "| Fan  Temp  Perf  Pwr:Usage/Cap|         Memory-Usage | GPU-Util  Compute M. |\n",
            "|                               |                      |               MIG M. |\n",
            "|===============================+======================+======================|\n",
            "|   0  Tesla T4            Off  | 00000000:00:04.0 Off |                    0 |\n",
            "| N/A   38C    P8     9W /  70W |      0MiB / 15079MiB |      0%      Default |\n",
            "|                               |                      |                 ERR! |\n",
            "+-------------------------------+----------------------+----------------------+\n",
            "                                                                               \n",
            "+-----------------------------------------------------------------------------+\n",
            "| Processes:                                                                  |\n",
            "|  GPU   GI   CI        PID   Type   Process name                  GPU Memory |\n",
            "|        ID   ID                                                   Usage      |\n",
            "|=============================================================================|\n",
            "|  No running processes found                                                 |\n",
            "+-----------------------------------------------------------------------------+\n"
          ],
          "name": "stdout"
        }
      ]
    },
    {
      "cell_type": "code",
      "metadata": {
        "id": "1MWMD8tuAWAC",
        "outputId": "12d7a815-6d56-4475-a8b2-6ce855a1f2f6",
        "colab": {
          "base_uri": "https://localhost:8080/",
          "height": 34
        }
      },
      "source": [
        "from google.colab import drive\n",
        "drive.mount('/content/drive')"
      ],
      "execution_count": null,
      "outputs": [
        {
          "output_type": "stream",
          "text": [
            "Drive already mounted at /content/drive; to attempt to forcibly remount, call drive.mount(\"/content/drive\", force_remount=True).\n"
          ],
          "name": "stdout"
        }
      ]
    },
    {
      "cell_type": "code",
      "metadata": {
        "id": "bySqWLJwAehS"
      },
      "source": [
        "# !pip install -q torch==1.2.0 torchvision==0.4.0\n",
        "# !pip install pillow==6.1.0"
      ],
      "execution_count": null,
      "outputs": []
    },
    {
      "cell_type": "code",
      "metadata": {
        "id": "66nt7uVBWTbv",
        "outputId": "30471768-364d-4bb1-8aa9-963402953141",
        "colab": {
          "base_uri": "https://localhost:8080/",
          "height": 34
        }
      },
      "source": [
        "%cd /content/drive/My Drive/AnomalyDetectionCVPR2018-Pytorch\n"
      ],
      "execution_count": null,
      "outputs": [
        {
          "output_type": "stream",
          "text": [
            "/content/drive/My Drive/AnomalyDetectionCVPR2018-Pytorch\n"
          ],
          "name": "stdout"
        }
      ]
    },
    {
      "cell_type": "code",
      "metadata": {
        "id": "kYheGDLdAP7N"
      },
      "source": [
        "import argparse\n",
        "import os\n",
        "import torch\n",
        "import torch.backends.cudnn as cudnn\n",
        "from network.anomaly_detector_model import AnomalyDetector, RegularizedLoss, custom_objective\n",
        "from features_loader import FeaturesLoaderVal\n",
        "from network.model import static_model\n",
        "from tqdm import tqdm\n",
        "from sklearn.metrics import roc_curve, auc\n",
        "import matplotlib.pyplot as plt\n",
        "from os import path\n",
        "import cv2\n",
        "import numpy as np"
      ],
      "execution_count": null,
      "outputs": []
    },
    {
      "cell_type": "code",
      "metadata": {
        "id": "WGNKxgLzA6Oy"
      },
      "source": [
        "random_seed = 42\n",
        "features_path = '/content/drive/My Drive/C3D_features'\n",
        "annotation_path = '/content/drive/My Drive/AnomalyDetectionCVPR2018-Pytorch/Test_Annotation.txt'\n",
        "\n",
        "model_dir = ['/content/drive/My Drive/AnomalyDetectionCVPR2018-Pytorch/weights/exps_mini/',\n",
        "             '/content/drive/My Drive/AnomalyDetectionCVPR2018-Pytorch/weights/exps_mini_noise/']\n"
      ],
      "execution_count": null,
      "outputs": []
    },
    {
      "cell_type": "code",
      "metadata": {
        "id": "tXUfrMPdNF9F",
        "outputId": "7bba60c2-e325-4a39-8a0e-432be3a8773a",
        "colab": {
          "base_uri": "https://localhost:8080/",
          "height": 51
        }
      },
      "source": [
        "for model_name in (model_dir):\n",
        "  print(model_name)"
      ],
      "execution_count": null,
      "outputs": [
        {
          "output_type": "stream",
          "text": [
            "/content/drive/My Drive/AnomalyDetectionCVPR2018-Pytorch/weights/exps_mini/\n",
            "/content/drive/My Drive/AnomalyDetectionCVPR2018-Pytorch/weights/exps_mini_noise/\n"
          ],
          "name": "stdout"
        }
      ]
    },
    {
      "cell_type": "code",
      "metadata": {
        "id": "qKx5AoHXAUZT"
      },
      "source": [
        "def get_video_length(vid_name):\n",
        "    video_path = vid_name + '.mp4'\n",
        "    cap = cv2.VideoCapture(video_path)\n",
        "    length = int(cap.get(cv2.CAP_PROP_FRAME_COUNT))\n",
        "    return length\n"
      ],
      "execution_count": null,
      "outputs": []
    },
    {
      "cell_type": "code",
      "metadata": {
        "id": "lgecrUNuApqe",
        "outputId": "285d675c-ba48-485f-a674-71bdef86fd84",
        "colab": {
          "base_uri": "https://localhost:8080/",
          "height": 279
        }
      },
      "source": [
        "if __name__ == \"__main__\":\n",
        "  y_big_trues = []\n",
        "  y_big_preds = []\n",
        "  for model_number, model_name in enumerate(model_dir):\n",
        "    print('#'*40)\n",
        "    print('INSIDE MODEL:', model_number)\n",
        "    print('#'*40)\n",
        "    device = torch.device(\"cuda\" if torch.cuda.is_available()\n",
        "                          else \"cpu\")\n",
        "    torch.manual_seed(random_seed)\n",
        "    torch.cuda.manual_seed(random_seed)\n",
        "\n",
        "    data_loader = FeaturesLoaderVal(features_path=features_path,\n",
        "                                    annotation_path=annotation_path)\n",
        "\n",
        "    data_iter = torch.utils.data.DataLoader(data_loader,\n",
        "                                            batch_size=1,\n",
        "                                            shuffle=False,\n",
        "                                            num_workers=1,  # 4, # change this part accordingly\n",
        "                                            pin_memory=True)\n",
        "\n",
        "    network = AnomalyDetector()\n",
        "    network.to(device)\n",
        "    net = static_model(net=network,\n",
        "                       criterion=RegularizedLoss(network, custom_objective).cuda(),\n",
        "                       model_prefix=model_name,\n",
        "                       )\n",
        "    model_path = net.get_checkpoint_path(5000)\n",
        "    net.load_checkpoint(pretrain_path=model_path, epoch=5000)\n",
        "    net.net.to(device)\n",
        "    # net.net = torch.nn.DataParallel(net.net).cuda()\n",
        "\n",
        "    # enable cudnn tune\n",
        "    cudnn.benchmark = True\n",
        "\n",
        "    y_trues = None\n",
        "    y_preds = None\n",
        "\n",
        "    for features, start_end_couples, feature_subpaths, lengths in tqdm(data_iter):\n",
        "        # features is a batch where each item is a tensor of 32 4096D features\n",
        "        features = features.to(device)\n",
        "        with torch.no_grad():\n",
        "            input_var = torch.autograd.Variable(features)\n",
        "            outputs = net.predict(input_var)[0]  # (batch_size, 32)\n",
        "            outputs = outputs.reshape(outputs.shape[0], 32)\n",
        "            for vid_len, couples, output in zip(lengths, start_end_couples, outputs.cpu().numpy()):\n",
        "                y_true = np.zeros(vid_len)\n",
        "                segments_len = vid_len // 32\n",
        "                for couple in couples:\n",
        "                    if couple[0] != -1:\n",
        "                        y_true[couple[0]: couple[1]] = 1\n",
        "                y_pred = np.zeros(vid_len)\n",
        "                for i in range(32):\n",
        "                    segment_start_frame = i * segments_len\n",
        "                    segment_end_frame = (i + 1) * segments_len\n",
        "                    y_pred[segment_start_frame: segment_end_frame] = output[i]\n",
        "\n",
        "                if y_trues is None:\n",
        "                    y_trues = y_true\n",
        "                    y_preds = y_pred\n",
        "                else:\n",
        "                    y_trues = np.concatenate([y_trues, y_true])\n",
        "                    y_preds = np.concatenate([y_preds, y_pred])\n",
        "\n",
        "    y_big_trues.append(y_trues)\n",
        "    y_big_preds.append(y_preds)\n",
        "\n",
        "  plt.figure(0).clf()\n",
        "  lw=2\n",
        "  fpr, tpr, thresholds = roc_curve(y_true=y_big_trues[0], y_score=y_big_preds[0], pos_label=1)\n",
        "  roc_auc = auc(fpr, tpr)\n",
        "  plt.plot(fpr, tpr, color='darkorange', lw=lw, label='Mini ROC curve (area = %0.2f)' % roc_auc)\n",
        "\n",
        "  fpr, tpr, thresholds = roc_curve(y_true=y_big_trues[1], y_score=y_big_preds[1], pos_label=1)\n",
        "  roc_auc = auc(fpr, tpr)\n",
        "  plt.plot(fpr, tpr, color='red', lw=lw, label='Mini Noise ROC curve (area = %0.2f)' % roc_auc)\n",
        "\n",
        "  plt.plot([0, 1], [0, 1], color='navy', lw=lw, linestyle='--')\n",
        "  plt.xlim([0.0, 1.0])\n",
        "  plt.ylim([0.0, 1.05])\n",
        "  plt.xlabel('False Positive Rate')\n",
        "  plt.ylabel('True Positive Rate')\n",
        "  plt.legend(loc=\"lower right\")\n",
        "\n",
        "\n",
        "\n",
        "  if not path.exists(r'graphs'):\n",
        "      os.mkdir(r'graphs')\n",
        "  plt.savefig(path.join('graphs', 'minis_roc_auc.png'))\n"
      ],
      "execution_count": null,
      "outputs": [
        {
          "output_type": "display_data",
          "data": {
            "image/png": "[encoded data removed]",
            "text/plain": [
              "<Figure size 432x288 with 1 Axes>"
            ]
          },
          "metadata": {
            "tags": [],
            "needs_background": "light"
          }
        }
      ]
    },
    {
      "cell_type": "code",
      "metadata": {
        "id": "_PoSi7s5es_O"
      },
      "source": [
        ""
      ],
      "execution_count": null,
      "outputs": []
    }
  ]
}