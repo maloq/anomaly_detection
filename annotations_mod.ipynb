{
 "cells": [
  {
   "cell_type": "code",
   "execution_count": 5,
   "metadata": {},
   "outputs": [],
   "source": [
    "bad_words = ['Explosion', 'RoadAccidents', 'Arson', 'Shooting', 'Stealing', 'Shoplifting', 'Vandalism', 'Burglary', 'Abuse'  ]\n",
    "\n",
    "with open('Test_Annotation_orig.txt') as oldfile, open('Test_Annotation.txt', 'w') as newfile:\n",
    "    for line in oldfile:\n",
    "        if not any(bad_word in line for bad_word in bad_words):\n",
    "            newfile.write(line)"
   ]
  },
  {
   "cell_type": "code",
   "execution_count": 6,
   "metadata": {},
   "outputs": [],
   "source": [
    "with open('Train_Annotation_orig.txt') as oldfile, open('Train_Annotation.txt', 'w') as newfile:\n",
    "    for line in oldfile:\n",
    "        if not any(bad_word in line for bad_word in bad_words):\n",
    "            newfile.write(line)"
   ]
  },
  {
   "cell_type": "code",
   "execution_count": 7,
   "metadata": {},
   "outputs": [],
   "source": [
    "with open('Temporal_Anomaly_Annotation_for_Testing_Videos_orig.txt') as oldfile, open('Temporal_Anomaly_Annotation_for_Testing_Videos.txt', 'w') as newfile:\n",
    "    for line in oldfile:\n",
    "        if not any(bad_word in line for bad_word in bad_words):\n",
    "            newfile.write(line)"
   ]
  },
  {
   "cell_type": "code",
   "execution_count": 8,
   "metadata": {},
   "outputs": [],
   "source": [
    "\n",
    "with open('Anomaly_Train_orig.txt') as oldfile, open('Anomaly_Train.txt', 'w') as newfile:\n",
    "    for line in oldfile:\n",
    "        if not any(bad_word in line for bad_word in bad_words):\n",
    "            newfile.write(line)"
   ]
  },
  {
   "cell_type": "code",
   "execution_count": null,
   "metadata": {},
   "outputs": [],
   "source": []
  },
  {
   "cell_type": "code",
   "execution_count": null,
   "metadata": {},
   "outputs": [],
   "source": []
  }
 ],
 "metadata": {
  "kernelspec": {
   "display_name": "Python 3",
   "language": "python",
   "name": "python3"
  },
  "language_info": {
   "codemirror_mode": {
    "name": "ipython",
    "version": 3
   },
   "file_extension": ".py",
   "mimetype": "text/x-python",
   "name": "python",
   "nbconvert_exporter": "python",
   "pygments_lexer": "ipython3",
   "version": "3.7.6"
  }
 },
 "nbformat": 4,
 "nbformat_minor": 4
}
